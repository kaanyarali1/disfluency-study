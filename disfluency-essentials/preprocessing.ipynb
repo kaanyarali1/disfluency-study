{
  "nbformat": 4,
  "nbformat_minor": 0,
  "metadata": {
    "colab": {
      "provenance": [],
      "collapsed_sections": []
    },
    "kernelspec": {
      "name": "python3",
      "display_name": "Python 3"
    },
    "language_info": {
      "name": "python"
    }
  },
  "cells": [
    {
      "cell_type": "code",
      "execution_count": null,
      "metadata": {
        "id": "5gPpENOw4z6e"
      },
      "outputs": [],
      "source": [
        "import pandas as pd \n",
        "import numpy as np\n",
        "import json\n",
        "import re\n",
        "from string import punctuation\n",
        "from glob import glob\n",
        "import tensorflow as tf\n",
        "import collections\n",
        "import bisect\n",
        "import matplotlib.pyplot as plt\n",
        "import seaborn as sns\n",
        "%matplotlib inline"
      ]
    },
    {
      "cell_type": "code",
      "source": [
        "from google.colab import drive\n",
        "drive.mount('/content/gdrive')"
      ],
      "metadata": {
        "colab": {
          "base_uri": "https://localhost:8080/"
        },
        "id": "AxSRxs1q42jD",
        "outputId": "1bd01ec4-e35e-41a4-c81d-4f8394481d27"
      },
      "execution_count": null,
      "outputs": [
        {
          "output_type": "stream",
          "name": "stdout",
          "text": [
            "Drive already mounted at /content/gdrive; to attempt to forcibly remount, call drive.mount(\"/content/gdrive\", force_remount=True).\n"
          ]
        }
      ]
    },
    {
      "cell_type": "code",
      "source": [
        "## The path of files may need to be modified\n",
        "label_map = {'CN': 0, 'AD': 1}\n",
        "\"\"\"\n",
        "filenames = tf.io.gfile.glob(\"/content/gdrive/MyDrive/speech/test/transcription/*.json\")\n",
        "filenames = tf.random.shuffle(filenames).numpy()\n",
        "segmentations = tf.io.gfile.glob(\n",
        "    \"/content/gdrive/MyDrive/speech/test/segmentation/*.csv\"\n",
        ")\n",
        "test_labels_csv = pd.read_csv(\"/content/gdrive/MyDrive/speech/test/test_results_task1_groundtruth.csv\")\n",
        "\n",
        "\"\"\"\n",
        "filenames = tf.io.gfile.glob(\"/content/gdrive/MyDrive/DementiaBank.20210603/ADReSSo2021/diagnosis/train/transcription/*.json\")\n",
        "filenames = tf.random.shuffle(filenames).numpy()\n",
        "segmentations = tf.io.gfile.glob(\"/content/gdrive/MyDrive/DementiaBank.20210603/ADReSSo2021/diagnosis/train/segmentation/*/*.csv\")"
      ],
      "metadata": {
        "id": "hf0kJfDf46yr"
      },
      "execution_count": null,
      "outputs": []
    },
    {
      "cell_type": "code",
      "source": [
        "all_time_line = collections.defaultdict(list)\n",
        "labels = collections.defaultdict(str)\n",
        "ids = []\n",
        "for segmentation in segmentations:\n",
        "  seg_file = pd.read_csv(segmentation)\n",
        "  seg_file = seg_file[seg_file[\"speaker\"] == \"PAR\"]\n",
        "  file_id = segmentation.split(\"/\")[-1].split(\".\")[0]\n",
        "  label = segmentation.split(\"/\")[-2]\n",
        "  ids.append(file_id)\n",
        "  labels[file_id] = label\n",
        "  for idx, r in seg_file.iterrows():\n",
        "    speaker = r['speaker']\n",
        "    start_time = r['begin']\n",
        "    end_time = r['end']\n",
        "\n",
        "    if type(start_time) == str:\n",
        "        start_time = float(start_time.strip(' ').strip('\"'))\n",
        "      \n",
        "    if type(end_time) == str:\n",
        "        end_time = float(end_time.strip(' ').strip('\"'))\n",
        "\n",
        "    # convert ms to seconds\n",
        "    start_time = start_time / 1000.0\n",
        "    end_time = end_time / 1000.0\n",
        "\n",
        "    all_time_line[file_id].append((start_time, end_time))\n",
        "  \n",
        "  idx = 0\n",
        "  while(1):\n",
        "    try:\n",
        "      if all_time_line[file_id][idx][1] >= all_time_line[file_id][idx+1][0]:\n",
        "        temp = (all_time_line[file_id][idx][0], all_time_line[file_id][idx+1][1])\n",
        "        all_time_line[file_id].pop(idx)\n",
        "        all_time_line[file_id].pop(idx)\n",
        "        all_time_line[file_id].insert(idx, temp)\n",
        "      else:\n",
        "        idx += 1\n",
        "    except:\n",
        "      break"
      ],
      "metadata": {
        "id": "PckFSHlk48Uu"
      },
      "execution_count": null,
      "outputs": []
    },
    {
      "cell_type": "code",
      "source": [
        "def is_patient_utterance(speech_timeline, time_point):\n",
        "    eps = 10e-4\n",
        "    search_point = (time_point[0] + eps, time_point[1])\n",
        "    idx = bisect.bisect_left(speech_timeline, search_point)\n",
        "    # print(speech_timeline,search_point, idx)\n",
        "    if idx == 0:\n",
        "        return False\n",
        "    return speech_timeline[idx - 1][0] <= time_point[0] <= time_point[1] <= speech_timeline[idx - 1][1]"
      ],
      "metadata": {
        "id": "QtcmKCTG5Rtu"
      },
      "execution_count": null,
      "outputs": []
    },
    {
      "cell_type": "code",
      "source": [
        "def get_interval_from_file(file):\n",
        "  segments = file[\"results\"]['speaker_labels']['segments']\n",
        "  start_time = []\n",
        "  end_time = []\n",
        "  for segment in segments:\n",
        "    # print(segment['items'])\n",
        "    for word in segment['items']:\n",
        "      # print(word)\n",
        "      start_time.append(float(word['start_time']))\n",
        "      end_time.append(float(word['end_time']))\n",
        "  interval = np.append(np.array([0]), np.array(start_time[1:]) - np.array(end_time[:-1]))\n",
        "  return start_time, end_time, interval"
      ],
      "metadata": {
        "id": "ygEa6CiH5d9M"
      },
      "execution_count": null,
      "outputs": []
    },
    {
      "cell_type": "code",
      "source": [
        "def remove_original_punctuation(file):\n",
        "  for transcript in file[\"results\"][\"transcripts\"]:\n",
        "    # print(transcript['transcript'])\n",
        "    text = re.sub('[{}]'.format(punctuation),'',transcript['transcript'])\n",
        "    text = text.split(\" \")\n",
        "  return text"
      ],
      "metadata": {
        "id": "c0bTifgD5fwQ"
      },
      "execution_count": null,
      "outputs": []
    },
    {
      "cell_type": "code",
      "source": [
        "def delete_other_speaker(all_time_line, file_id, start_time, end_time):\n",
        "  time_line = all_time_line[file_id]\n",
        "  del_index = []\n",
        "  idx = 0\n",
        "  for time_point in zip(start_time, end_time):\n",
        "    if not is_patient_utterance(time_line, time_point):\n",
        "      del_index.append(idx)\n",
        "    idx += 1\n",
        "  return del_index"
      ],
      "metadata": {
        "id": "SijT3Vpt5iix"
      },
      "execution_count": null,
      "outputs": []
    },
    {
      "cell_type": "code",
      "source": [
        "ids = []\n",
        "labels = []\n",
        "texts = []\n",
        "result = []\n",
        "for filename in filenames:\n",
        "  with open(filename) as f:\n",
        "    file = json.load(f)\n",
        "  filename = filename.decode(\"utf-8\")\n",
        "  file_id = filename.split(\".wav\")[0].split(\"-\")[-1]\n",
        "  start_time, end_time, interval = get_interval_from_file(file)\n",
        "  del_index = delete_other_speaker(all_time_line, file_id, start_time, end_time)\n",
        "  text = remove_original_punctuation(file)\n",
        "  text = np.delete(text, del_index)\n",
        "  interval = np.delete(interval, del_index)\n",
        "  interval = np.rint(interval)\n",
        "  interval = interval.astype(int)\n",
        "  ids.append(file_id)\n",
        "  \"\"\"\n",
        "  l = test_labels_csv.loc[test_labels_csv['ID'] == file_id].iloc[0][\"Dx\"]\n",
        "  if l == \"Control\":\n",
        "    labels.append(0)\n",
        "  else:\n",
        "    labels.append(1)\n",
        "  \"\"\"\n",
        "  labels.append(label_map[filename.split(\".wav\")[0].split(\"-\")[-2]])\n",
        "  texts.append(' '.join(str(i) for i in text))\n",
        "  result.append({\"name\": file_id,\"label\": labels[-1], \"content\": ' '.join(str(i) for i in text),\"pause\": ' '.join(str(i) for i in interval)})"
      ],
      "metadata": {
        "id": "cOH5Ha0T5l3z"
      },
      "execution_count": null,
      "outputs": []
    },
    {
      "cell_type": "code",
      "source": [
        "df = pd.DataFrame(data=result)"
      ],
      "metadata": {
        "id": "PYgFiZxy8kG5"
      },
      "execution_count": null,
      "outputs": []
    },
    {
      "cell_type": "code",
      "source": [
        "df"
      ],
      "metadata": {
        "colab": {
          "base_uri": "https://localhost:8080/",
          "height": 641
        },
        "id": "lgPi5cnAarSs",
        "outputId": "102cf8ab-79e2-484c-cbce-8b98fe4fabcf"
      },
      "execution_count": null,
      "outputs": [
        {
          "output_type": "execute_result",
          "data": {
            "text/plain": [
              "         name  label                                            content  \\\n",
              "0    adrso202      1  Mhm Can start others grind jesus and the sink ...   \n",
              "1    adrso253      1  Well my boys trying to get some cookies and th...   \n",
              "2    adrso245      1  Im very climbed up on the same your foot jar w...   \n",
              "3    adrso286      0  Uh huh Well one thing this boys on the stool g...   \n",
              "4    adrso036      1  All the Whats going on in this picture Was tha...   \n",
              "..        ...    ...                                                ...   \n",
              "161  adrso123      1  Mhm Well the sink is running over Shes drying ...   \n",
              "162  adrso198      1  Thank you mm Helaine Helen and our Children Tr...   \n",
              "163  adrso134      1  Yeah Yeah Voice touching A K Yes Girls reachin...   \n",
              "164  adrso165      0  Yeah Girls reaching up The boys is taking cook...   \n",
              "165  adrso211      1  an average home that looks very much like ours...   \n",
              "\n",
              "                                                 pause  \n",
              "0    1 2 0 0 0 0 2 0 0 0 0 0 0 1 2 2 0 0 0 0 0 2 0 ...  \n",
              "1    0 0 0 0 0 0 0 0 0 0 0 0 0 0 0 0 0 0 0 0 0 0 0 ...  \n",
              "2    2 0 0 0 0 0 0 0 0 3 2 0 0 0 0 0 1 0 0 0 0 0 0 ...  \n",
              "3    0 0 1 0 0 0 0 0 0 0 0 0 1 0 0 0 0 1 0 0 0 0 0 ...  \n",
              "4    0 0 0 0 0 0 0 0 0 0 0 0 0 1 0 1 0 0 0 0 0 2 0 ...  \n",
              "..                                                 ...  \n",
              "161  1 1 1 0 0 0 0 1 0 0 0 1 0 0 0 0 0 0 0 0 0 0 2 ...  \n",
              "162  1 0 1 0 1 0 0 0 2 0 0 0 2 0 0 2 0 3 1 0 0 2 1 ...  \n",
              "163  2 2 2 1 0 0 0 1 0 0 0 0 0 0 0 0 0 0 0 0 0 0 0 ...  \n",
              "164  2 0 0 0 0 0 1 0 0 0 0 0 0 0 0 0 0 0 0 0 0 0 0 ...  \n",
              "165  0 0 0 0 0 0 0 0 0 0 0 0 0 0 0 0 0 0 0 0 0 0 0 ...  \n",
              "\n",
              "[166 rows x 4 columns]"
            ],
            "text/html": [
              "\n",
              "  <div id=\"df-fefd1063-2ef9-42e5-b116-f73b7f719023\">\n",
              "    <div class=\"colab-df-container\">\n",
              "      <div>\n",
              "<style scoped>\n",
              "    .dataframe tbody tr th:only-of-type {\n",
              "        vertical-align: middle;\n",
              "    }\n",
              "\n",
              "    .dataframe tbody tr th {\n",
              "        vertical-align: top;\n",
              "    }\n",
              "\n",
              "    .dataframe thead th {\n",
              "        text-align: right;\n",
              "    }\n",
              "</style>\n",
              "<table border=\"1\" class=\"dataframe\">\n",
              "  <thead>\n",
              "    <tr style=\"text-align: right;\">\n",
              "      <th></th>\n",
              "      <th>name</th>\n",
              "      <th>label</th>\n",
              "      <th>content</th>\n",
              "      <th>pause</th>\n",
              "    </tr>\n",
              "  </thead>\n",
              "  <tbody>\n",
              "    <tr>\n",
              "      <th>0</th>\n",
              "      <td>adrso202</td>\n",
              "      <td>1</td>\n",
              "      <td>Mhm Can start others grind jesus and the sink ...</td>\n",
              "      <td>1 2 0 0 0 0 2 0 0 0 0 0 0 1 2 2 0 0 0 0 0 2 0 ...</td>\n",
              "    </tr>\n",
              "    <tr>\n",
              "      <th>1</th>\n",
              "      <td>adrso253</td>\n",
              "      <td>1</td>\n",
              "      <td>Well my boys trying to get some cookies and th...</td>\n",
              "      <td>0 0 0 0 0 0 0 0 0 0 0 0 0 0 0 0 0 0 0 0 0 0 0 ...</td>\n",
              "    </tr>\n",
              "    <tr>\n",
              "      <th>2</th>\n",
              "      <td>adrso245</td>\n",
              "      <td>1</td>\n",
              "      <td>Im very climbed up on the same your foot jar w...</td>\n",
              "      <td>2 0 0 0 0 0 0 0 0 3 2 0 0 0 0 0 1 0 0 0 0 0 0 ...</td>\n",
              "    </tr>\n",
              "    <tr>\n",
              "      <th>3</th>\n",
              "      <td>adrso286</td>\n",
              "      <td>0</td>\n",
              "      <td>Uh huh Well one thing this boys on the stool g...</td>\n",
              "      <td>0 0 1 0 0 0 0 0 0 0 0 0 1 0 0 0 0 1 0 0 0 0 0 ...</td>\n",
              "    </tr>\n",
              "    <tr>\n",
              "      <th>4</th>\n",
              "      <td>adrso036</td>\n",
              "      <td>1</td>\n",
              "      <td>All the Whats going on in this picture Was tha...</td>\n",
              "      <td>0 0 0 0 0 0 0 0 0 0 0 0 0 1 0 1 0 0 0 0 0 2 0 ...</td>\n",
              "    </tr>\n",
              "    <tr>\n",
              "      <th>...</th>\n",
              "      <td>...</td>\n",
              "      <td>...</td>\n",
              "      <td>...</td>\n",
              "      <td>...</td>\n",
              "    </tr>\n",
              "    <tr>\n",
              "      <th>161</th>\n",
              "      <td>adrso123</td>\n",
              "      <td>1</td>\n",
              "      <td>Mhm Well the sink is running over Shes drying ...</td>\n",
              "      <td>1 1 1 0 0 0 0 1 0 0 0 1 0 0 0 0 0 0 0 0 0 0 2 ...</td>\n",
              "    </tr>\n",
              "    <tr>\n",
              "      <th>162</th>\n",
              "      <td>adrso198</td>\n",
              "      <td>1</td>\n",
              "      <td>Thank you mm Helaine Helen and our Children Tr...</td>\n",
              "      <td>1 0 1 0 1 0 0 0 2 0 0 0 2 0 0 2 0 3 1 0 0 2 1 ...</td>\n",
              "    </tr>\n",
              "    <tr>\n",
              "      <th>163</th>\n",
              "      <td>adrso134</td>\n",
              "      <td>1</td>\n",
              "      <td>Yeah Yeah Voice touching A K Yes Girls reachin...</td>\n",
              "      <td>2 2 2 1 0 0 0 1 0 0 0 0 0 0 0 0 0 0 0 0 0 0 0 ...</td>\n",
              "    </tr>\n",
              "    <tr>\n",
              "      <th>164</th>\n",
              "      <td>adrso165</td>\n",
              "      <td>0</td>\n",
              "      <td>Yeah Girls reaching up The boys is taking cook...</td>\n",
              "      <td>2 0 0 0 0 0 1 0 0 0 0 0 0 0 0 0 0 0 0 0 0 0 0 ...</td>\n",
              "    </tr>\n",
              "    <tr>\n",
              "      <th>165</th>\n",
              "      <td>adrso211</td>\n",
              "      <td>1</td>\n",
              "      <td>an average home that looks very much like ours...</td>\n",
              "      <td>0 0 0 0 0 0 0 0 0 0 0 0 0 0 0 0 0 0 0 0 0 0 0 ...</td>\n",
              "    </tr>\n",
              "  </tbody>\n",
              "</table>\n",
              "<p>166 rows × 4 columns</p>\n",
              "</div>\n",
              "      <button class=\"colab-df-convert\" onclick=\"convertToInteractive('df-fefd1063-2ef9-42e5-b116-f73b7f719023')\"\n",
              "              title=\"Convert this dataframe to an interactive table.\"\n",
              "              style=\"display:none;\">\n",
              "        \n",
              "  <svg xmlns=\"http://www.w3.org/2000/svg\" height=\"24px\"viewBox=\"0 0 24 24\"\n",
              "       width=\"24px\">\n",
              "    <path d=\"M0 0h24v24H0V0z\" fill=\"none\"/>\n",
              "    <path d=\"M18.56 5.44l.94 2.06.94-2.06 2.06-.94-2.06-.94-.94-2.06-.94 2.06-2.06.94zm-11 1L8.5 8.5l.94-2.06 2.06-.94-2.06-.94L8.5 2.5l-.94 2.06-2.06.94zm10 10l.94 2.06.94-2.06 2.06-.94-2.06-.94-.94-2.06-.94 2.06-2.06.94z\"/><path d=\"M17.41 7.96l-1.37-1.37c-.4-.4-.92-.59-1.43-.59-.52 0-1.04.2-1.43.59L10.3 9.45l-7.72 7.72c-.78.78-.78 2.05 0 2.83L4 21.41c.39.39.9.59 1.41.59.51 0 1.02-.2 1.41-.59l7.78-7.78 2.81-2.81c.8-.78.8-2.07 0-2.86zM5.41 20L4 18.59l7.72-7.72 1.47 1.35L5.41 20z\"/>\n",
              "  </svg>\n",
              "      </button>\n",
              "      \n",
              "  <style>\n",
              "    .colab-df-container {\n",
              "      display:flex;\n",
              "      flex-wrap:wrap;\n",
              "      gap: 12px;\n",
              "    }\n",
              "\n",
              "    .colab-df-convert {\n",
              "      background-color: #E8F0FE;\n",
              "      border: none;\n",
              "      border-radius: 50%;\n",
              "      cursor: pointer;\n",
              "      display: none;\n",
              "      fill: #1967D2;\n",
              "      height: 32px;\n",
              "      padding: 0 0 0 0;\n",
              "      width: 32px;\n",
              "    }\n",
              "\n",
              "    .colab-df-convert:hover {\n",
              "      background-color: #E2EBFA;\n",
              "      box-shadow: 0px 1px 2px rgba(60, 64, 67, 0.3), 0px 1px 3px 1px rgba(60, 64, 67, 0.15);\n",
              "      fill: #174EA6;\n",
              "    }\n",
              "\n",
              "    [theme=dark] .colab-df-convert {\n",
              "      background-color: #3B4455;\n",
              "      fill: #D2E3FC;\n",
              "    }\n",
              "\n",
              "    [theme=dark] .colab-df-convert:hover {\n",
              "      background-color: #434B5C;\n",
              "      box-shadow: 0px 1px 3px 1px rgba(0, 0, 0, 0.15);\n",
              "      filter: drop-shadow(0px 1px 2px rgba(0, 0, 0, 0.3));\n",
              "      fill: #FFFFFF;\n",
              "    }\n",
              "  </style>\n",
              "\n",
              "      <script>\n",
              "        const buttonEl =\n",
              "          document.querySelector('#df-fefd1063-2ef9-42e5-b116-f73b7f719023 button.colab-df-convert');\n",
              "        buttonEl.style.display =\n",
              "          google.colab.kernel.accessAllowed ? 'block' : 'none';\n",
              "\n",
              "        async function convertToInteractive(key) {\n",
              "          const element = document.querySelector('#df-fefd1063-2ef9-42e5-b116-f73b7f719023');\n",
              "          const dataTable =\n",
              "            await google.colab.kernel.invokeFunction('convertToInteractive',\n",
              "                                                     [key], {});\n",
              "          if (!dataTable) return;\n",
              "\n",
              "          const docLinkHtml = 'Like what you see? Visit the ' +\n",
              "            '<a target=\"_blank\" href=https://colab.research.google.com/notebooks/data_table.ipynb>data table notebook</a>'\n",
              "            + ' to learn more about interactive tables.';\n",
              "          element.innerHTML = '';\n",
              "          dataTable['output_type'] = 'display_data';\n",
              "          await google.colab.output.renderOutput(dataTable, element);\n",
              "          const docLink = document.createElement('div');\n",
              "          docLink.innerHTML = docLinkHtml;\n",
              "          element.appendChild(docLink);\n",
              "        }\n",
              "      </script>\n",
              "    </div>\n",
              "  </div>\n",
              "  "
            ]
          },
          "metadata": {},
          "execution_count": 11
        }
      ]
    },
    {
      "cell_type": "code",
      "source": [
        "df.to_csv(\"train.csv\")"
      ],
      "metadata": {
        "id": "xYxlHLtC_Qid"
      },
      "execution_count": null,
      "outputs": []
    }
  ]
}